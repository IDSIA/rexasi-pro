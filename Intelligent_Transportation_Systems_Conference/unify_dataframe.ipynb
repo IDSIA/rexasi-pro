{
 "cells": [
  {
   "cell_type": "code",
   "execution_count": 1,
   "metadata": {},
   "outputs": [],
   "source": [
    "import pandas as pd\n",
    "import matplotlib.pyplot as plt"
   ]
  },
  {
   "cell_type": "code",
   "execution_count": 2,
   "metadata": {},
   "outputs": [],
   "source": [
    "i=11\n",
    "digit = str(i).zfill(2)"
   ]
  },
  {
   "cell_type": "code",
   "execution_count": 3,
   "metadata": {},
   "outputs": [],
   "source": [
    "files = [f'bbox_widths_{digit}-exp{digit}_drone.csv',\n",
    "            f'bbox_widths_{digit}-exp{digit}_d_bright_0.3.csv', \n",
    "            f'bbox_widths_{digit}-exp{digit}_d_bright_0.5.csv', \n",
    "            f'bbox_widths_{digit}-exp{digit}_d_bright_0.7.csv',\n",
    "            f'bbox_widths_{digit}-exp{digit}_d_dark_0.3.csv',\n",
    "            f'bbox_widths_{digit}-exp{digit}_d_dark_0.5.csv',\n",
    "            f'bbox_widths_{digit}-exp{digit}_d_dark_0.7.csv',\n",
    "            f'bbox_widths_{digit}-exp{digit}_d_fog_0.3.csv',\n",
    "            f'bbox_widths_{digit}-exp{digit}_d_fog_0.5.csv',\n",
    "            f'bbox_widths_{digit}-exp{digit}_d_fog_0.7.csv',\n",
    "            f'bbox_widths_{digit}-exp{digit}_d_rain_drizzle.csv',\n",
    "            f'bbox_widths_{digit}-exp{digit}_d_rain_heavy.csv',\n",
    "            f'bbox_widths_{digit}-exp{digit}_d_rain_torrential.csv'\n",
    "            ]\n",
    "\n",
    "names = [\n",
    "    'original',\n",
    "    'bright_1',\n",
    "    'bright_2',\n",
    "    'bright_3',\n",
    "    'dark_1',\n",
    "    'dark_2',\n",
    "    'dark_3',\n",
    "    'fog_1',\n",
    "    'fog_2',\n",
    "    'fog_3',\n",
    "    'rain_1',\n",
    "    'rain_2',\n",
    "    'rain_3'\n",
    "]"
   ]
  },
  {
   "cell_type": "code",
   "execution_count": 4,
   "metadata": {},
   "outputs": [
    {
     "data": {
      "text/plain": [
       "Index(['original', 'bright_1', 'bright_2', 'bright_3', 'dark_1', 'dark_2',\n",
       "       'dark_3', 'fog_1', 'fog_2', 'fog_3', 'rain_1', 'rain_2', 'rain_3'],\n",
       "      dtype='object')"
      ]
     },
     "execution_count": 4,
     "metadata": {},
     "output_type": "execute_result"
    }
   ],
   "source": [
    "df = pd.DataFrame(columns=['Bounding Box Width'])\n",
    "for i, item in enumerate(files):\n",
    "    df_item = pd.read_csv(item, index_col=0)\n",
    "    df['Bounding Box Width'] = df_item['Bounding Box Width']\n",
    "    df.rename(columns={'Bounding Box Width': names[i]}, inplace=True)\n",
    "df.columns"
   ]
  },
  {
   "cell_type": "code",
   "execution_count": 5,
   "metadata": {},
   "outputs": [],
   "source": [
    "df.to_csv('bbox_drone_FT.csv')"
   ]
  },
  {
   "cell_type": "code",
   "execution_count": 6,
   "metadata": {},
   "outputs": [],
   "source": [
    "files = [f'bbox_widths_{digit}-exp{digit}_wheelchair.csv',\n",
    "            f'bbox_widths_{digit}-exp{digit}_w_bright_0.3.csv', \n",
    "            f'bbox_widths_{digit}-exp{digit}_w_bright_0.5.csv', \n",
    "            f'bbox_widths_{digit}-exp{digit}_w_bright_0.7.csv',\n",
    "            f'bbox_widths_{digit}-exp{digit}_w_dark_0.3.csv',\n",
    "            f'bbox_widths_{digit}-exp{digit}_w_dark_0.5.csv',\n",
    "            f'bbox_widths_{digit}-exp{digit}_w_dark_0.7.csv',\n",
    "            f'bbox_widths_{digit}-exp{digit}_w_fog_0.3.csv',\n",
    "            f'bbox_widths_{digit}-exp{digit}_w_fog_0.5.csv',\n",
    "            f'bbox_widths_{digit}-exp{digit}_w_fog_0.7.csv',\n",
    "            f'bbox_widths_{digit}-exp{digit}_w_rain_drizzle.csv',\n",
    "            f'bbox_widths_{digit}-exp{digit}_w_rain_heavy.csv',\n",
    "            f'bbox_widths_{digit}-exp{digit}_w_rain_torrential.csv'\n",
    "            ]"
   ]
  },
  {
   "cell_type": "code",
   "execution_count": 7,
   "metadata": {},
   "outputs": [
    {
     "data": {
      "text/plain": [
       "Index(['original', 'bright_1', 'bright_2', 'bright_3', 'dark_1', 'dark_2',\n",
       "       'dark_3', 'fog_1', 'fog_2', 'fog_3', 'rain_1', 'rain_2', 'rain_3'],\n",
       "      dtype='object')"
      ]
     },
     "execution_count": 7,
     "metadata": {},
     "output_type": "execute_result"
    }
   ],
   "source": [
    "df = pd.DataFrame(columns=['Bounding Box Width'])\n",
    "for i, item in enumerate(files):\n",
    "    df_item = pd.read_csv(item, index_col=0)\n",
    "    df['Bounding Box Width'] = df_item['Bounding Box Width']\n",
    "    df.rename(columns={'Bounding Box Width': names[i]}, inplace=True)\n",
    "df.columns"
   ]
  },
  {
   "cell_type": "code",
   "execution_count": 8,
   "metadata": {},
   "outputs": [],
   "source": [
    "df.to_csv('bbox_wheelchair_FT.csv')"
   ]
  }
 ],
 "metadata": {
  "kernelspec": {
   "display_name": ".venv",
   "language": "python",
   "name": "python3"
  },
  "language_info": {
   "codemirror_mode": {
    "name": "ipython",
    "version": 3
   },
   "file_extension": ".py",
   "mimetype": "text/x-python",
   "name": "python",
   "nbconvert_exporter": "python",
   "pygments_lexer": "ipython3",
   "version": "3.9.2rc1"
  }
 },
 "nbformat": 4,
 "nbformat_minor": 2
}
